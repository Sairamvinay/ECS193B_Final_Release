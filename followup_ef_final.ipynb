{
  "nbformat": 4,
  "nbformat_minor": 0,
  "metadata": {
    "colab": {
      "name": "followup_ef_final.ipynb",
      "provenance": []
    },
    "kernelspec": {
      "name": "python3",
      "display_name": "Python 3"
    }
  },
  "cells": [
    {
      "cell_type": "markdown",
      "metadata": {
        "id": "tc0c_buJhhgt",
        "colab_type": "text"
      },
      "source": [
        "This notebook allows you to train and run the stochastic follow-up EF model presented here (https://ecs193-final-project.herokuapp.com/). In order to run this code, you will need have the cleaned data downloaded. This data is located here: https://drive.google.com/file/d/1ecNmerBZLMQlaWnoyNkE4bZrHPV8gkoL/view?usp=sharing"
      ]
    },
    {
      "cell_type": "code",
      "metadata": {
        "id": "-ZH7SP2IhdE5",
        "colab_type": "code",
        "colab": {
          "base_uri": "https://localhost:8080/",
          "height": 34
        },
        "outputId": "ab2ad55a-eb0d-4a3f-aade-1dd57a2f330c"
      },
      "source": [
        "try:\n",
        "  # Use the %tensorflow_version magic if in colab.\n",
        "  %tensorflow_version 1.x\n",
        "except Exception:\n",
        "  pass"
      ],
      "execution_count": 1,
      "outputs": [
        {
          "output_type": "stream",
          "text": [
            "TensorFlow 1.x selected.\n"
          ],
          "name": "stdout"
        }
      ]
    },
    {
      "cell_type": "code",
      "metadata": {
        "id": "8282cRWykho8",
        "colab_type": "code",
        "colab": {
          "base_uri": "https://localhost:8080/",
          "height": 34
        },
        "outputId": "145282f8-375e-42b1-f965-1cd8efa36d2b"
      },
      "source": [
        "import pandas as pd\n",
        "import sklearn\n",
        "import keras\n",
        "import tensorflow as tf\n",
        "import operator\n",
        "import numpy as np\n",
        "import matplotlib.pyplot as plt\n",
        "import warnings\n",
        "import math\n",
        "import itertools\n",
        "from keras import backend as K\n",
        "from time import time\n",
        "from keras.utils import plot_model\n",
        "from sklearn.model_selection import train_test_split,KFold\n",
        "from sklearn.utils import shuffle\n",
        "from sklearn.metrics import precision_recall_curve,average_precision_score,roc_auc_score,roc_curve,recall_score,precision_score,f1_score\n",
        "from datetime import datetime, date\n",
        "from sklearn.metrics import confusion_matrix\n",
        "from keras.layers.merge import concatenate\n",
        "from keras.layers import Input, Dense, Conv1D, MaxPooling1D, Softmax, Add, Flatten, Activation, Embedding, LSTM, Dropout, Dropout\n",
        "from keras.models import Model\n",
        "from keras.optimizers import Adam\n",
        "warnings.filterwarnings(\"ignore\")\n",
        "%matplotlib inline"
      ],
      "execution_count": 2,
      "outputs": [
        {
          "output_type": "stream",
          "text": [
            "Using TensorFlow backend.\n"
          ],
          "name": "stderr"
        }
      ]
    },
    {
      "cell_type": "markdown",
      "metadata": {
        "id": "jjxF4QQQl7Kq",
        "colab_type": "text"
      },
      "source": [
        "Here, we clean up the the .csv files downloaded. In particular, a lot of column values have no values, so we impute them with np.nan so they can be zero filled later."
      ]
    },
    {
      "cell_type": "code",
      "metadata": {
        "id": "nDJ6HQyPlQb4",
        "colab_type": "code",
        "colab": {}
      },
      "source": [
        "df2 = pd.read_csv(\"combined_echo_data_new.csv\")\n",
        "df2 = df2.drop(\"Unnamed: 0\",axis=1)\n",
        "df2 = df2.dropna(axis=0,subset = [\"Pt. ID\"])\n",
        "exclude_mrns = []\n",
        "\n",
        "for ids in np.array(df2['Pt. ID'].unique()):\n",
        "  try:\n",
        "    ids1 = int(ids) \n",
        "  except ValueError:\n",
        "    exclude_mrns.append(ids)\n",
        "\n",
        "df2 = df2[~df2['Pt. ID'].isin(exclude_mrns)]\n",
        "df2['Pt. ID'] = df2['Pt. ID'].astype(int)\n",
        "\n",
        "vol, ef = [], []  # Created new cols\n",
        "\n",
        "for index, record in df2.iterrows():\n",
        "  volume_A4C = record[\"LA Vol A/L A4C i BSA\"]\n",
        "  volume_A2C = record[\"LA Vol A/L A2C i BSA\"]\n",
        "  volume_BP =  record[\"LA Vol A/L BP i BSA\"]\n",
        "  ef_A4C = record[\"LV EF, MOD A4C\"]\n",
        "  ef_A2C = record[\"LV EF, MOD A2C\"]\n",
        "  ef_BP = record[\"LV EF, MOD BP\"]\n",
        "  # First pick is the A4C channel\n",
        "  if not np.isnan(volume_A4C):\n",
        "    vol.append(volume_A4C)\n",
        "  # Next pick is from A2C channel\n",
        "  elif not np.isnan(volume_A2C):\n",
        "    vol.append(volume_A2C)\n",
        "  # Worst case, choose from BP channel\n",
        "  elif not np.isnan(volume_BP):\n",
        "    vol.append(volume_BP)\n",
        "  # If all channels are empty; set it empty\n",
        "  else:\n",
        "    vol.append(float(\"nan\"))\n",
        "  \n",
        "  # Do the same for EF\n",
        "  if not np.isnan(ef_A4C):\n",
        "    ef.append(ef_A4C) \n",
        "  elif not np.isnan(ef_A2C):\n",
        "    ef.append(ef_A2C) \n",
        "  elif not np.isnan(ef_BP):\n",
        "    ef.append(ef_BP) \n",
        "  else:\n",
        "    ef.append(float(\"nan\"))\n",
        "\n",
        "df2[\"LA Vol A/L Volume\"] = vol # New column for Volume added\n",
        "df2[\"Ejection_Fraction\"] = ef  # New column for EF added\n",
        "df2 = df2.drop([\"LA Vol A/L A4C i BSA\",\"LA Vol A/L A2C i BSA\",\n",
        "                \"LA Vol A/L BP i BSA\",\"LV EF, MOD A4C\",\n",
        "                \"LV EF, MOD A2C\",\"LV EF, MOD BP\"], axis=1) # Drop these obsolete cols\n",
        "df2 = df2.dropna(axis = 0, how=\"all\",subset=[\"Ejection_Fraction\"])\n",
        "ind = df2[df2['Ejection_Fraction'] <= 0].index.tolist() + df2[df2['IVS d, 2D'] > 5].index.tolist() \n",
        "ind = ind + df2[df2['LV d, 2D'] > 10].index.tolist() + df2[df2['LV s, 2D'] > 10].index.tolist() \n",
        "ind += df2[df2['RVSP (TR)'] > 125].index.tolist() + df2[df2['LA Vol A/L Volume'] > 200].index.tolist()\n",
        "df_echo = df2.drop(ind,axis=0)"
      ],
      "execution_count": 0,
      "outputs": []
    },
    {
      "cell_type": "markdown",
      "metadata": {
        "id": "USkLHGXpoXub",
        "colab_type": "text"
      },
      "source": [
        "We also need to zero fill any np.nan values and normalize."
      ]
    },
    {
      "cell_type": "code",
      "metadata": {
        "id": "qpNIqwBPoUgs",
        "colab_type": "code",
        "colab": {}
      },
      "source": [
        "zero_filled_values = np.nan_to_num(df_echo[df_echo.columns.to_list()[2:]].values)\n",
        "prior_values = df_echo[df_echo.columns.to_list()[0:2]].values\n",
        "all_values = np.append(prior_values, zero_filled_values, axis=1)\n",
        "\n",
        "df_echo_norm = pd.DataFrame(all_values,columns=df_echo.columns.to_list())\n",
        "\n",
        "# normalizing the values\n",
        "df_echo_norm['IVS d, 2D'] = df_echo_norm['IVS d, 2D'] / 5.0\n",
        "df_echo_norm['LV d, 2D'] = df_echo_norm['LV d, 2D'] / 10.0\n",
        "df_echo_norm['LV s, 2D'] = df_echo_norm['LV s, 2D'] / 10.0\n",
        "df_echo_norm['RVSP (TR)'] = df_echo_norm['RVSP (TR)'] / 125.0\n",
        "df_echo_norm['LA Vol A/L Volume'] = df_echo_norm['LA Vol A/L Volume'] / 200.0\n",
        "df_echo_norm['Ejection_Fraction'] = df_echo_norm['Ejection_Fraction'] / 100.0"
      ],
      "execution_count": 0,
      "outputs": []
    },
    {
      "cell_type": "markdown",
      "metadata": {
        "id": "xdMZYxiHpdU8",
        "colab_type": "text"
      },
      "source": [
        "Now, we collect the follow-up EF samples using the data from the EF sample. We check to see if there is a follow-up EF sample 90-365 days following the initial EF date. "
      ]
    },
    {
      "cell_type": "code",
      "metadata": {
        "id": "hSu2jaOuok0p",
        "colab_type": "code",
        "colab": {
          "base_uri": "https://localhost:8080/",
          "height": 34
        },
        "outputId": "933f342b-67ac-4e95-e7e1-88df55b5c281"
      },
      "source": [
        "from tqdm import tqdm\n",
        "\n",
        "date_format = \"%Y-%m-%d %H:%M:%S\"\n",
        "\n",
        "x_values = None\n",
        "y_values = None\n",
        "\n",
        "groups = df_echo_norm.groupby(by=\"Pt. ID\")\n",
        "\n",
        "for grp_name, record in tqdm(groups):\n",
        "  sorted_record = record.sort_values(['Study Date'])\n",
        "  sorted_record['Study Date'] = pd.to_datetime(sorted_record['Study Date'])\n",
        "  for i in range(len(sorted_record)):\n",
        "    for j in range(i+1,len(sorted_record)):\n",
        "      mrn = sorted_record.iloc[i]['Pt. ID']\n",
        "      initial_echo_date = sorted_record.iloc[i]['Study Date']\n",
        "      end_echo_date = sorted_record.iloc[j]['Study Date']\n",
        "\n",
        "      delta = (end_echo_date - initial_echo_date).days\n",
        "\n",
        "      if delta > 90 and delta < 365:\n",
        "        input_indices = [0, 2, 3, 4, 5, 6, 7]\n",
        "        data_input = [sorted_record.iloc[i].values[input_indices]]\n",
        "        data_output = [[sorted_record.iloc[j]['Ejection_Fraction']]]\n",
        "        if x_values is None:\n",
        "          x_values =  data_input\n",
        "          y_values = data_output\n",
        "        else:\n",
        "          x_values = np.append(x_values, data_input, axis=0)\n",
        "          y_values = np.append(y_values, data_output)"
      ],
      "execution_count": 6,
      "outputs": [
        {
          "output_type": "stream",
          "text": [
            "100%|██████████| 35627/35627 [01:31<00:00, 389.13it/s]\n"
          ],
          "name": "stderr"
        }
      ]
    },
    {
      "cell_type": "markdown",
      "metadata": {
        "id": "1VgTvCn9qU-7",
        "colab_type": "text"
      },
      "source": [
        "Now, we will undersample the data so there is an equal balance of data of data points where EF < 0.35 and EF >= 0.35."
      ]
    },
    {
      "cell_type": "code",
      "metadata": {
        "id": "ji3Ue0bNqUb5",
        "colab_type": "code",
        "colab": {}
      },
      "source": [
        "def undersample(X, y, threshold):\n",
        "  assert (len(X) == len(y)), \"lengths of X and y are not equal\"\n",
        "  X_low = None\n",
        "  X_high = None\n",
        "  y_low = None\n",
        "  y_high = None\n",
        "\n",
        "  for i in range(len(y)):\n",
        "    if y[i] < threshold:\n",
        "      if X_low is None:\n",
        "        X_low = [X[i]]\n",
        "        y_low = y[i]\n",
        "      else:\n",
        "        X_low = np.append(X_low, [X[i]], axis=0)\n",
        "        y_low = np.append(y_low, y[i])\n",
        "    else:\n",
        "      if X_high is None:\n",
        "        X_high = [X[i]]\n",
        "        y_high = y[i]\n",
        "      else:\n",
        "        X_high = np.append(X_high, [X[i]],axis=0)\n",
        "        y_high = np.append(y_high, y[i])\n",
        "\n",
        "  if len(y_low) < len(y_high):\n",
        "    chosen = np.random.choice(len(y_high), len(y_low), replace=False)\n",
        "    X_high = X_high[chosen]\n",
        "    y_high = y_high[chosen]\n",
        "  else:\n",
        "    chosen = np.random.choice(len(y_low), len(y_high), replace=False)\n",
        "    X_low = X_low[chosen]\n",
        "    y_low = y_low[chosen]\n",
        "\n",
        "  X_new = np.append(X_low, X_high, axis=0)\n",
        "  y_new = np.append(y_low, y_high)\n",
        "  X_new, y_new = shuffle(X_new, y_new, random_state=0)\n",
        "\n",
        "  return X_new, y_new"
      ],
      "execution_count": 0,
      "outputs": []
    },
    {
      "cell_type": "code",
      "metadata": {
        "id": "mYmiMbJQr1Dw",
        "colab_type": "code",
        "colab": {}
      },
      "source": [
        "x_values, y_values = undersample(x_values, y_values, 0.35)"
      ],
      "execution_count": 0,
      "outputs": []
    },
    {
      "cell_type": "code",
      "metadata": {
        "id": "Iw6rQ-tZsAda",
        "colab_type": "code",
        "colab": {}
      },
      "source": [
        "all_training_data = np.append(x_values, np.expand_dims(y_values, axis=1), axis=1)\n",
        "df_final_training_data = pd.DataFrame(all_training_data,\n",
        "                                      columns=[\"Pt. ID\", \"IVS d, 2D\",\t\"LV d, 2D\",\t\n",
        "                                                \"LV s, 2D\",\t\"RVSP (TR)\",\t\"LA Vol A/L Volume\", \n",
        "                                                \"Ejection_Fraction\",\t\"Ejection_Fraction_Followup\"])"
      ],
      "execution_count": 0,
      "outputs": []
    },
    {
      "cell_type": "markdown",
      "metadata": {
        "id": "sVeWWxOMsZ3b",
        "colab_type": "text"
      },
      "source": [
        "We need to make sure we split by individual patients so same patients are not in both train and test."
      ]
    },
    {
      "cell_type": "code",
      "metadata": {
        "id": "SWZdlwAosCxf",
        "colab_type": "code",
        "colab": {}
      },
      "source": [
        "ids = df_final_training_data[\"Pt. ID\"].unique() # Get all the different patients"
      ],
      "execution_count": 0,
      "outputs": []
    },
    {
      "cell_type": "markdown",
      "metadata": {
        "id": "mbLTxPRusppr",
        "colab_type": "text"
      },
      "source": [
        "We'll do uncertainty estimation here. First, we need to instantiate a stochastic model."
      ]
    },
    {
      "cell_type": "code",
      "metadata": {
        "id": "OqIRinW5smeL",
        "colab_type": "code",
        "colab": {}
      },
      "source": [
        "class StochasticModel(keras.Model):\n",
        "  def __init__(self):\n",
        "    super(StochasticModel, self).__init__()\n",
        "\n",
        "    self.layer_1 = Dense(100, activation='relu')\n",
        "    self.dropout_1 = Dropout(0.5)\n",
        "\n",
        "    self.layer_2 = Dense(50, activation='relu')\n",
        "    self.dropout_2 = Dropout(0.5)\n",
        "    \n",
        "    self.layer_3 = Dense(10, activation='relu')\n",
        "    self.dropout_3 = Dropout(0.5)\n",
        "\n",
        "    self.output_layer = Dense(1, activation='sigmoid')\n",
        "  \n",
        "  def call(self, x):\n",
        "    x = self.layer_1(x)\n",
        "    x = self.dropout_1(x, training=True)\n",
        "\n",
        "    x = self.layer_2(x)\n",
        "    x = self.dropout_2(x, training=True)\n",
        "\n",
        "    x = self.layer_3(x)\n",
        "    x = self.dropout_3(x, training=True)\n",
        "\n",
        "    output = self.output_layer(x)\n",
        "\n",
        "    return output"
      ],
      "execution_count": 0,
      "outputs": []
    },
    {
      "cell_type": "code",
      "metadata": {
        "id": "lk66-vlhsunT",
        "colab_type": "code",
        "colab": {}
      },
      "source": [
        "x_data = df_final_training_data[df_final_training_data.columns.to_list()[:-1]].values\n",
        "y_data = df_final_training_data[df_final_training_data.columns.to_list()[-1]].values"
      ],
      "execution_count": 0,
      "outputs": []
    },
    {
      "cell_type": "markdown",
      "metadata": {
        "id": "Q4ThgmR0tv66",
        "colab_type": "text"
      },
      "source": [
        "We will split by patient IDs here and create the train and test sets ready for model input."
      ]
    },
    {
      "cell_type": "code",
      "metadata": {
        "id": "-CA24QTyteTk",
        "colab_type": "code",
        "colab": {}
      },
      "source": [
        "train_ids, test_ids = train_test_split(ids, test_size = 0.10)"
      ],
      "execution_count": 0,
      "outputs": []
    },
    {
      "cell_type": "code",
      "metadata": {
        "id": "m5dZ8gBHtfxQ",
        "colab_type": "code",
        "colab": {}
      },
      "source": [
        "df_train = df_final_training_data[df_final_training_data[\"Pt. ID\"].isin(train_ids)]\n",
        "df_test = df_final_training_data[df_final_training_data[\"Pt. ID\"].isin(test_ids)]"
      ],
      "execution_count": 0,
      "outputs": []
    },
    {
      "cell_type": "code",
      "metadata": {
        "id": "L_IYQ_twtnp-",
        "colab_type": "code",
        "colab": {}
      },
      "source": [
        "x_train = df_train[df_final_training_data.columns.to_list()[1:-1]].values\n",
        "y_train = df_train[df_final_training_data.columns.to_list()[-1]].values"
      ],
      "execution_count": 0,
      "outputs": []
    },
    {
      "cell_type": "code",
      "metadata": {
        "id": "ICy7SYMWtrpN",
        "colab_type": "code",
        "colab": {}
      },
      "source": [
        "x_test = df_test[df_final_training_data.columns.to_list()[1:-1]].values\n",
        "y_test = df_test[df_final_training_data.columns.to_list()[-1]].values"
      ],
      "execution_count": 0,
      "outputs": []
    },
    {
      "cell_type": "code",
      "metadata": {
        "id": "TIofJZgWtvdY",
        "colab_type": "code",
        "colab": {
          "base_uri": "https://localhost:8080/",
          "height": 88
        },
        "outputId": "2363bc28-a885-4bbe-d3b7-53d6cc8b6a46"
      },
      "source": [
        "batch_size = 1000\n",
        "epochs = 50\n",
        "adam = Adam(lr = 0.002, beta_1 = 0.9, beta_2 = 0.999)"
      ],
      "execution_count": 22,
      "outputs": [
        {
          "output_type": "stream",
          "text": [
            "WARNING:tensorflow:From /tensorflow-1.15.2/python3.6/tensorflow_core/python/ops/resource_variable_ops.py:1630: calling BaseResourceVariable.__init__ (from tensorflow.python.ops.resource_variable_ops) with constraint is deprecated and will be removed in a future version.\n",
            "Instructions for updating:\n",
            "If using Keras pass *_constraint arguments to layers.\n"
          ],
          "name": "stdout"
        }
      ]
    },
    {
      "cell_type": "code",
      "metadata": {
        "id": "r9SCjr1Kt3qu",
        "colab_type": "code",
        "colab": {}
      },
      "source": [
        "def mse_loss(y_actual, y_pred):\n",
        "\treturn K.mean(K.square(y_pred - y_actual))"
      ],
      "execution_count": 0,
      "outputs": []
    },
    {
      "cell_type": "code",
      "metadata": {
        "id": "xqxH0RJZt6tN",
        "colab_type": "code",
        "colab": {}
      },
      "source": [
        "stochastic_model = StochasticModel()\n",
        "stochastic_model.compile(loss=mse_loss, optimizer=adam, metrics=[mse_loss])"
      ],
      "execution_count": 0,
      "outputs": []
    },
    {
      "cell_type": "code",
      "metadata": {
        "id": "ETr6mwCCt8wU",
        "colab_type": "code",
        "colab": {}
      },
      "source": [
        "stochastic_model.fit(x_train, y_train, batch_size = batch_size, validation_data=(x_test, y_test), epochs = 100)"
      ],
      "execution_count": 0,
      "outputs": []
    },
    {
      "cell_type": "markdown",
      "metadata": {
        "id": "y0Dz6oq4usTE",
        "colab_type": "text"
      },
      "source": [
        "Some helper functions."
      ]
    },
    {
      "cell_type": "code",
      "metadata": {
        "id": "6rhkEhzIurnE",
        "colab_type": "code",
        "colab": {}
      },
      "source": [
        "def binarize_output(output,limit = 0.35):\n",
        "  processed_output = []\n",
        "  for elem in output:\n",
        "    if elem < limit:\n",
        "      processed_output.append(0)\n",
        "    else:\n",
        "      processed_output.append(1)\n",
        "  \n",
        "  return processed_output"
      ],
      "execution_count": 0,
      "outputs": []
    },
    {
      "cell_type": "code",
      "metadata": {
        "id": "4D7fnb99uy52",
        "colab_type": "code",
        "colab": {}
      },
      "source": [
        "def basic_accuracy_metric(y_pred, y_truth):\n",
        "  count = 0\n",
        "  for i in range(len(y_pred)):\n",
        "    if y_pred[i] == y_truth[i]:\n",
        "      count = count + 1\n",
        "  return count * 100.00/ len(y_pred)"
      ],
      "execution_count": 0,
      "outputs": []
    },
    {
      "cell_type": "code",
      "metadata": {
        "id": "P0q3nn83uH9h",
        "colab_type": "code",
        "colab": {}
      },
      "source": [
        "y_test_binarized = binarize_output(y_test)\n",
        "stochastic_model_preds = binarize_output(stochastic_model.predict(x_test))"
      ],
      "execution_count": 0,
      "outputs": []
    },
    {
      "cell_type": "markdown",
      "metadata": {
        "id": "Fc8TrYwWvGH0",
        "colab_type": "text"
      },
      "source": [
        "Here, the run through every test point in the dataset and perform inference on in N (20 in this setting times). We use the mean as the prediction of the model and the variance as a measure of uncertainty."
      ]
    },
    {
      "cell_type": "code",
      "metadata": {
        "id": "AptFmOkju991",
        "colab_type": "code",
        "colab": {
          "base_uri": "https://localhost:8080/",
          "height": 34
        },
        "outputId": "c9bf2e28-8f09-4d21-fade-40c014fb1284"
      },
      "source": [
        "from tqdm import tqdm\n",
        "\n",
        "correct_pred_uncertainties_negative = []\n",
        "correct_pred_uncertainties_positive = []\n",
        "\n",
        "incorrect_pred_uncertainties_negative = []\n",
        "incorrect_pred_uncertainties_positive = []\n",
        "\n",
        "correct_pred_mean_negative = []\n",
        "correct_pred_mean_positive = []\n",
        "\n",
        "incorrect_pred_mean_negative = []\n",
        "incorrect_pred_mean_positive = []\n",
        "\n",
        "all_predictions = []\n",
        "all_uncertainties = []\n",
        "\n",
        "num_samples_per_example = 100 # hyperparameter that can be changed\n",
        "\n",
        "for i in tqdm(range(len(x_test))): # iterating through every example\n",
        "  ground_truth = y_test_binarized[i]\n",
        "  sample_predictions = []\n",
        "  for j in range(num_samples_per_example):\n",
        "    sample_prediction = stochastic_model.predict(np.expand_dims(x_test[i], axis=0))[0][0]\n",
        "    sample_predictions.append(sample_prediction)\n",
        "  \n",
        "  sample_predictions = np.array(sample_predictions)\n",
        "\n",
        "  raw_prediction_mean = np.mean(sample_predictions)\n",
        "  raw_prediction_variance = np.var(sample_predictions) # measure of uncertainty, un-binarized\n",
        "\n",
        "  all_predictions.append(raw_prediction_mean)\n",
        "  all_uncertainties.append(raw_prediction_variance)\n",
        "\n",
        "  if raw_prediction_mean < 0.35:\n",
        "    prediction_mean = 0\n",
        "  else:\n",
        "    prediction_mean = 1\n",
        "\n",
        "  if prediction_mean == ground_truth:\n",
        "    if prediction_mean == 0:\n",
        "      correct_pred_uncertainties_negative.append(raw_prediction_variance)\n",
        "      correct_pred_mean_negative.append((raw_prediction_mean, y_test[i]))\n",
        "    else:\n",
        "      correct_pred_uncertainties_positive.append(raw_prediction_variance)\n",
        "      correct_pred_mean_positive.append((raw_prediction_mean, y_test[i]))\n",
        "  else:\n",
        "    if prediction_mean == 0:\n",
        "      incorrect_pred_uncertainties_negative.append(raw_prediction_variance)\n",
        "      incorrect_pred_mean_negative.append((raw_prediction_mean, y_test[i]))\n",
        "    else:\n",
        "      incorrect_pred_uncertainties_positive.append(raw_prediction_variance)\n",
        "      incorrect_pred_mean_positive.append((raw_prediction_mean, y_test[i]))"
      ],
      "execution_count": 38,
      "outputs": [
        {
          "output_type": "stream",
          "text": [
            "100%|██████████| 314/314 [00:21<00:00, 14.79it/s]\n"
          ],
          "name": "stderr"
        }
      ]
    },
    {
      "cell_type": "markdown",
      "metadata": {
        "id": "vUXZwAZvvWLc",
        "colab_type": "text"
      },
      "source": [
        "Next, we will produce the uncertainty estimate plots."
      ]
    },
    {
      "cell_type": "code",
      "metadata": {
        "id": "gCbUKWRKvcmw",
        "colab_type": "code",
        "colab": {}
      },
      "source": [
        "correct_negative_errors = []\n",
        "correct_positive_errors = []\n",
        "\n",
        "incorrect_negative_errors = []\n",
        "incorrect_positive_errors = []\n",
        "\n",
        "for (prediction, ground_truth) in correct_pred_mean_negative:\n",
        "  correct_negative_errors.append(abs(prediction - ground_truth))\n",
        "\n",
        "for (prediction, ground_truth) in correct_pred_mean_positive:\n",
        "  correct_positive_errors.append(abs(prediction - ground_truth))\n",
        "\n",
        "for (prediction, ground_truth) in incorrect_pred_mean_negative:\n",
        "  incorrect_negative_errors.append(abs(prediction - ground_truth))\n",
        "\n",
        "for (prediction, ground_truth) in incorrect_pred_mean_positive:\n",
        "  incorrect_positive_errors.append(abs(prediction - ground_truth))"
      ],
      "execution_count": 0,
      "outputs": []
    },
    {
      "cell_type": "code",
      "metadata": {
        "id": "AXfvA0Xfv0Ls",
        "colab_type": "code",
        "colab": {
          "base_uri": "https://localhost:8080/",
          "height": 295
        },
        "outputId": "ce4a795d-0a51-472d-bcf0-ed18b85a0e09"
      },
      "source": [
        "plt.title(\"Uncertainty in negative class predictions\")\n",
        "plt.xlabel(\"Error\")\n",
        "plt.ylabel(\"Uncertainty\")\n",
        "plt.scatter(correct_negative_errors, correct_pred_uncertainties_negative, marker=\"s\", label='Correct', alpha=0.5)\n",
        "plt.scatter(incorrect_negative_errors, incorrect_pred_uncertainties_negative, marker=\"o\", label='Incorrect', alpha=0.5)\n",
        "plt.legend(loc='upper right');\n",
        "plt.show()"
      ],
      "execution_count": 40,
      "outputs": [
        {
          "output_type": "display_data",
          "data": {
            "image/png": "[encoded data removed]",
            "text/plain": [
              "<Figure size 432x288 with 1 Axes>"
            ]
          },
          "metadata": {
            "tags": [],
            "needs_background": "light"
          }
        }
      ]
    },
    {
      "cell_type": "code",
      "metadata": {
        "id": "QKIFIRfZv3Mm",
        "colab_type": "code",
        "colab": {
          "base_uri": "https://localhost:8080/",
          "height": 295
        },
        "outputId": "5e7beeca-0902-4a20-872f-8e5ec923c958"
      },
      "source": [
        "plt.title(\"Uncertainty in positive class predictions\")\n",
        "plt.xlabel(\"Error\")\n",
        "plt.ylabel(\"Uncertainty\")\n",
        "plt.scatter(correct_positive_errors, correct_pred_uncertainties_positive, marker=\"s\", label='Correct', alpha=0.5)\n",
        "plt.scatter(incorrect_positive_errors, incorrect_pred_uncertainties_positive, marker=\"o\", label='Incorrect', alpha=0.5)\n",
        "plt.legend(loc='upper right');\n",
        "plt.show()"
      ],
      "execution_count": 41,
      "outputs": [
        {
          "output_type": "display_data",
          "data": {
            "image/png": "[encoded data removed]",
            "text/plain": [
              "<Figure size 432x288 with 1 Axes>"
            ]
          },
          "metadata": {
            "tags": [],
            "needs_background": "light"
          }
        }
      ]
    },
    {
      "cell_type": "markdown",
      "metadata": {
        "id": "ZDmir9PTv6HG",
        "colab_type": "text"
      },
      "source": [
        "We finally need to save the model for future. "
      ]
    },
    {
      "cell_type": "code",
      "metadata": {
        "id": "F1HPv85MwAVH",
        "colab_type": "code",
        "colab": {}
      },
      "source": [
        "stochastic_model.save_weights('stochastic_model_weights.tf')"
      ],
      "execution_count": 0,
      "outputs": []
    },
    {
      "cell_type": "markdown",
      "metadata": {
        "id": "8imDcLMgwFaD",
        "colab_type": "text"
      },
      "source": [
        "And some code to show you how to load this model and use it."
      ]
    },
    {
      "cell_type": "code",
      "metadata": {
        "id": "V73yVPKAwJLK",
        "colab_type": "code",
        "colab": {}
      },
      "source": [
        "def return_loaded_model():\n",
        "  loaded_model = StochasticModel()\n",
        "  loaded_model.compile(loss=mse_loss, optimizer=adam, metrics=[mse_loss])\n",
        "  loaded_model.predict(np.zeros((1, 6)))\n",
        "  loaded_model.load_weights('stochastic_model_weights.tf')\n",
        "  return loaded_model"
      ],
      "execution_count": 0,
      "outputs": []
    }
  ]
}